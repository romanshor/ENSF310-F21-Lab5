{
 "cells": [
  {
   "cell_type": "markdown",
   "metadata": {},
   "source": [
    "# ENSF 310: Lab #5\n",
    "## Design, implementation and testing of a simple software system\n",
    "\n",
    "Due: Tuesday, October 26th\n",
    "\n",
    "You will have two lab periods to work on this lab.  You should be able to finish Part 1 during the first lab session and start on Part 2.  \n",
    "\n",
    "You may work individually or with a partner.  If you work with a partner, both of you must make contributions to the lab assignment, and both of you must push changes to your shared repository."
   ]
  },
  {
   "cell_type": "markdown",
   "metadata": {},
   "source": [
    "# Part 1: Software Design (40 points)\n",
    "\n",
    "Your team has been hired to develop the back end to a ticket checking and capacity management system for a local ski resort.  The ski hill has already purchased equipment to scan tickets and passes and tickets are sold at the ticket counter using existing equipment and an existing user interface.  Your system should\n",
    "* Maintain a list or database of ski pass holders\n",
    "* Generate and validate daily ski tickets.  You do not have to handle the actual payments or multi-day tickets.\n",
    "* Allow no more than 200 skiers on the mountain on any particular day\n",
    "* All ski area users have a profile with personal information and an email address and phone number\n",
    "\n",
    "You do not have to provide an interactive user interface beyond what is needed to test functionality.  For example, you can assume that when a ticket is scanned, a function such as `Ticket.scan(ticket)` is called, and to issue a new ticket, a function such as `Ticket.issue()` is called.\n",
    "\n",
    "## 1. Requirements\n",
    "Develop a set of testable requirements based on the given information.  Clearly state all assumptions you have to make.  You will have to develop and demonstrate a test for each of your requirements based on your implementation.\n",
    "\n",
    "### Requirements:\n",
    "* ... **your solution here**\n",
    "\n",
    "## 2. Software Design\n",
    "Detail the class and function level design of your solution.\n",
    "\n",
    "For example:\n",
    "* class: `Pass`\n",
    "  * variables: \n",
    "    * `PassType`: \n",
    "    * ...\n",
    "  * functions\n",
    "    * `validate(date)`: returns `True` if valid, ...\n",
    "    * ...\n",
    "* ... **your solution here**\n",
    "\n",
    "\n"
   ]
  },
  {
   "cell_type": "markdown",
   "metadata": {},
   "source": [
    "# Part 2: Implementation (40 points)\n",
    "\n",
    "Implement your design in a separate python file.  Place any testing / debugging code in this Python notebook -- your testing code should demonstrate functionality of your soution."
   ]
  },
  {
   "cell_type": "code",
   "execution_count": null,
   "metadata": {},
   "outputs": [],
   "source": []
  },
  {
   "cell_type": "markdown",
   "metadata": {},
   "source": [
    "# Part 3: Testing (20 points)\n",
    "\n",
    "Develop a series of tests to test that your solution meets the requirements you set out in part 1.  You must test each requirement."
   ]
  },
  {
   "cell_type": "code",
   "execution_count": null,
   "metadata": {},
   "outputs": [],
   "source": []
  }
 ],
 "metadata": {
  "kernelspec": {
   "display_name": "Python 3",
   "language": "python",
   "name": "python3"
  },
  "language_info": {
   "codemirror_mode": {
    "name": "ipython",
    "version": 3
   },
   "file_extension": ".py",
   "mimetype": "text/x-python",
   "name": "python",
   "nbconvert_exporter": "python",
   "pygments_lexer": "ipython3",
   "version": "3.8.3"
  }
 },
 "nbformat": 4,
 "nbformat_minor": 2
}
